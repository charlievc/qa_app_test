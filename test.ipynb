{
 "cells": [
  {
   "cell_type": "markdown",
   "metadata": {},
   "source": [
    "### Run this notebook to test the docker image."
   ]
  },
  {
   "cell_type": "code",
   "execution_count": 2,
   "metadata": {},
   "outputs": [],
   "source": [
    "import urllib.request, json, requests\n",
    "\n",
    "# get the available questions and answers for a given topic using SQUAD v2.0\n",
    "URL = 'https://rajpurkar.github.io/SQuAD-explorer/dataset/train-v2.0.json'\n",
    "with urllib.request.urlopen(URL) as url:\n",
    "    data = json.load(url)\n",
    "\n",
    "def get_qa(topic, data):\n",
    "    q = []\n",
    "    a = []\n",
    "    for d in data['data']:\n",
    "        if d['title']==topic:\n",
    "            for paragraph in d['paragraphs']:\n",
    "                for qa in paragraph['qas']:\n",
    "                    if not qa['is_impossible']:\n",
    "                        q.append(qa['question'])\n",
    "                        a.append(qa['answers'][0]['text'])\n",
    "            return q,a\n",
    "\n",
    "ls_questions, ls_answers = get_qa(topic='Premier_League', data=data)"
   ]
  },
  {
   "cell_type": "code",
   "execution_count": 3,
   "metadata": {},
   "outputs": [
    {
     "data": {
      "text/plain": [
       "['How many club members are there?',\n",
       " 'How many matches does each team play?',\n",
       " 'What days are most games played?',\n",
       " 'Who sponsors the Premier League?',\n",
       " 'What name is the Premier League known as outside of the United Kingdom?']"
      ]
     },
     "execution_count": 3,
     "metadata": {},
     "output_type": "execute_result"
    }
   ],
   "source": [
    "# what are the sample questions?\n",
    "ls_questions[:5]"
   ]
  },
  {
   "cell_type": "code",
   "execution_count": 4,
   "metadata": {},
   "outputs": [
    {
     "data": {
      "text/plain": [
       "['The Premier League is a corporation in which the 20 member clubs act as shareholders',\n",
       " 'Teams play 38 matches each (playing each team in the league twice, home and away), totalling 380 matches in the season.',\n",
       " 'Most games are played on Saturday and Sunday afternoons; others during weekday evenings',\n",
       " 'It is currently sponsored by Barclays Bank and thus officially known as the Barclays Premier League and is colloquially known as the Premiership.',\n",
       " 'Outside the UK it is commonly referred to as the English Premier League (EPL).']"
      ]
     },
     "execution_count": 4,
     "metadata": {},
     "output_type": "execute_result"
    }
   ],
   "source": [
    "# what are the sample answers?\n",
    "ls_answers[:5]"
   ]
  },
  {
   "cell_type": "markdown",
   "metadata": {},
   "source": [
    "Ensure that the docker image is up and running before running the cells below!"
   ]
  },
  {
   "cell_type": "code",
   "execution_count": 8,
   "metadata": {},
   "outputs": [
    {
     "data": {
      "text/plain": [
       "{'message': 'Search context set'}"
      ]
     },
     "execution_count": 8,
     "metadata": {},
     "output_type": "execute_result"
    }
   ],
   "source": [
    "# To set the context of the Q&A app, we \"define the context\" by using the \\\n",
    "# Stanford Question Answering Dataset v2.0\n",
    "\n",
    "json_data = {\n",
    "  'questions':ls_questions,\n",
    "  'answers':ls_answers,\n",
    "}\n",
    "\n",
    "response = requests.post(\n",
    "  'http://localhost:8000/set_context',\n",
    "  json=json_data\n",
    ")\n",
    "\n",
    "response.json()"
   ]
  },
  {
   "cell_type": "code",
   "execution_count": 9,
   "metadata": {},
   "outputs": [
    {
     "name": "stdout",
     "output_type": "stream",
     "text": [
      "orig_q : what can i see here?\n",
      "best_q : Where can the third lion be seen?\n",
      "best_a : the third is symbolised by the captain of the title winning team as he raises the trophy, and its gold crown, above his head at the end of the season\n",
      "\n",
      "orig_q : how many teams are playing?\n",
      "best_q : How many matches does each team play?\n",
      "best_a : Teams play 38 matches each (playing each team in the league twice, home and away), totalling 380 matches in the season.\n",
      "\n"
     ]
    }
   ],
   "source": [
    "# Post a new question.\n",
    "# This will retrieve the \"most similar question\" and its \"corresponding answer\" \\\n",
    "# to the given custom question.\n",
    "\n",
    "new_post_questions = [\n",
    "    \"what can i see here?\",\n",
    "    \"how many teams are playing?\",\n",
    "]\n",
    "\n",
    "json_data = {\n",
    "  'questions':new_post_questions,\n",
    "}\n",
    "\n",
    "response = requests.post(\n",
    "  'http://localhost:8000/get_answer',\n",
    "  json=json_data\n",
    ")\n",
    "\n",
    "for d in response.json():\n",
    "  print('\\n'.join([\"{} : {}\".format(k, v) for k,v in d.items()])+'\\n')"
   ]
  }
 ],
 "metadata": {
  "kernelspec": {
   "display_name": "Python 3.10.1 ('venv': venv)",
   "language": "python",
   "name": "python3"
  },
  "language_info": {
   "codemirror_mode": {
    "name": "ipython",
    "version": 3
   },
   "file_extension": ".py",
   "mimetype": "text/x-python",
   "name": "python",
   "nbconvert_exporter": "python",
   "pygments_lexer": "ipython3",
   "version": "3.10.1"
  },
  "orig_nbformat": 4,
  "vscode": {
   "interpreter": {
    "hash": "840027e5f105e4b5e0be641966438c2e6b72b0a698322082955a78993280b295"
   }
  }
 },
 "nbformat": 4,
 "nbformat_minor": 2
}
